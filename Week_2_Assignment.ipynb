{
  "nbformat": 4,
  "nbformat_minor": 0,
  "metadata": {
    "colab": {
      "provenance": [],
      "authorship_tag": "ABX9TyOQEoVUCzYaamuvAuTvBERO",
      "include_colab_link": true
    },
    "kernelspec": {
      "name": "python3",
      "display_name": "Python 3"
    },
    "language_info": {
      "name": "python"
    }
  },
  "cells": [
    {
      "cell_type": "markdown",
      "metadata": {
        "id": "view-in-github",
        "colab_type": "text"
      },
      "source": [
        "<a href=\"https://colab.research.google.com/github/Sanarazaaa/UCI---Data-Science-with-Bioengineering-Applications-Assignment-/blob/main/Week_2_Assignment.ipynb\" target=\"_parent\"><img src=\"https://colab.research.google.com/assets/colab-badge.svg\" alt=\"Open In Colab\"/></a>"
      ]
    },
    {
      "cell_type": "code",
      "execution_count": null,
      "metadata": {
        "id": "ZUKwlJFqwlfJ"
      },
      "outputs": [],
      "source": [
        "\"\"\"\n",
        "Filter and display the columns \"Experiment ID\", \"Cell type\", and \"Apparatus used\" for all entries where\n",
        "the cell type is 'Nerve Cell' and the apparatus used is 'Electron Microscope'\n",
        "\"\"\"\n",
        "filtered_data = data[(data['Cell type'] == 'Nerve Cell') & (data['Apparatus used'] == 'Electron Microscope')]\n",
        "\n",
        "# Select specific columns to display\n",
        "result_data = filtered_data[['Experiment ID', 'Cell type', 'Apparatus used']]\n",
        "\n",
        "# Display the filtered result\n",
        "result_data"
      ]
    },
    {
      "cell_type": "code",
      "source": [
        "\"\"\"\n",
        "Perform mean imputation on records where \"X_cell_position\" is missing\n",
        "\"\"\"\n",
        "# Assuming 'data' is your original DataFrame\n",
        "data_copy = data.copy()  # Make a deep copy of the original DataFrame\n",
        "\n",
        "# Perform mean imputation for missing values in \"X_cell_position\"\n",
        "x_cell_position_mean = data_copy[\"X_cell_position\"].mean()  # Calculate the mean\n",
        "data_copy[\"X_cell_position\"] = data_copy[\"X_cell_position\"].fillna(x_cell_position_mean)  # Fill missing values with the mean\n",
        "\n",
        "# Print the mean value used for imputation\n",
        "print(\"Mean X_cell_position:\", x_cell_position_mean)\n",
        "\n",
        "# Check for any remaining missing values after mean imputation\n",
        "missing_values_after_imputation = data_copy.isnull().sum()\n",
        "print(\"Missing values after mean imputation:\")\n",
        "print(missing_values_after_imputation)\n",
        "\n",
        "## Your code here"
      ],
      "metadata": {
        "id": "EUCReSicwsRM"
      },
      "execution_count": null,
      "outputs": []
    },
    {
      "cell_type": "code",
      "source": [
        "\"\"\"\n",
        "Perform one hot encoding for \"Cell type\"\n",
        "\"\"\"\n",
        "one_hot_data = pd.get_dummies(data, columns=['Cell type'])\n",
        "one_hot_data\n",
        "\n",
        "## Your code here"
      ],
      "metadata": {
        "id": "ZERVqjgNwwk0"
      },
      "execution_count": null,
      "outputs": []
    },
    {
      "cell_type": "code",
      "source": [
        "\"\"\"\n",
        "Filter and display the columns \"Experiment ID\", \"Time stamp\", and \"Apparatus used\" for all entries where\n",
        "the experiment happened in October 2024.\n",
        "\"\"\"\n",
        "data_copy = data.copy()  # Make a deep copy of the original DataFrame\n",
        "\n",
        "# Convert 'Time stamp' to datetime format (if not already in datetime)\n",
        "data_copy['Time stamp'] = pd.to_datetime(data_copy['Time stamp'])\n",
        "\n",
        "# Filter for entries where the experiment happened in October 2024\n",
        "filtered_entries = data_copy[(data_copy['Time stamp'] >= '2024-10-01') &\n",
        "                             (data_copy['Time stamp'] < '2024-11-01')]\n",
        "\n",
        "# Select specific columns to display\n",
        "result_entries = filtered_entries[['Experiment ID', 'Time stamp', 'Apparatus used']]\n",
        "\n",
        "# Display the filtered entries\n",
        "result_entries"
      ],
      "metadata": {
        "id": "Z01x2xX7wxDQ"
      },
      "execution_count": null,
      "outputs": []
    }
  ]
}